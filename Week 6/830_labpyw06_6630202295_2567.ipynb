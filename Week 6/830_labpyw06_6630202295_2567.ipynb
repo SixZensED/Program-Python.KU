{
  "nbformat": 4,
  "nbformat_minor": 0,
  "metadata": {
    "colab": {
      "provenance": []
    },
    "kernelspec": {
      "name": "python3",
      "display_name": "Python 3"
    },
    "language_info": {
      "name": "python"
    }
  },
  "cells": [
    {
      "cell_type": "code",
      "execution_count": 12,
      "metadata": {
        "colab": {
          "base_uri": "https://localhost:8080/"
        },
        "id": "5_D6fSzjRiJ1",
        "outputId": "97ba267a-f524-4b4a-f0d3-78975cf938ad"
      },
      "outputs": [
        {
          "output_type": "stream",
          "name": "stdout",
          "text": [
            "Enter a number: 60\n",
            "Correct Input!\n"
          ]
        }
      ],
      "source": [
        "#1.\n",
        "x = int(input(\"Enter a number: \"))\n",
        "\n",
        "if (x % 3 == 0 and ((x >= -75 and x <= 75) or (x >= 50 and x <= 75))):\n",
        "  print(\"Correct Input!\")\n",
        "else:\n",
        "  print(\"Incorrect Input!\")"
      ]
    },
    {
      "cell_type": "code",
      "source": [
        "#2.\n",
        "li = [12,24,35,70,88,120,155]\n",
        "li = [x for x in li if x % 35!=0]\n",
        "print(li)"
      ],
      "metadata": {
        "colab": {
          "base_uri": "https://localhost:8080/"
        },
        "id": "QzAjJOv8StXw",
        "outputId": "5db89ba3-ff18-4019-f9ba-82c6e7d90b9a"
      },
      "execution_count": 13,
      "outputs": [
        {
          "output_type": "stream",
          "name": "stdout",
          "text": [
            "[12, 24, 88, 120, 155]\n"
          ]
        }
      ]
    },
    {
      "cell_type": "code",
      "source": [
        "#3.\n",
        "\n",
        "li = [12,24,35,70,88,120,155]\n",
        "li = [li[x] for x in range(len(li)) if x%2!=0]\n",
        "\n",
        "print(li)"
      ],
      "metadata": {
        "colab": {
          "base_uri": "https://localhost:8080/"
        },
        "id": "xjxc2eo_T5SQ",
        "outputId": "8cf9d75c-651d-4f19-8ce0-0dd08c89bb20"
      },
      "execution_count": 14,
      "outputs": [
        {
          "output_type": "stream",
          "name": "stdout",
          "text": [
            "[24, 70, 120]\n"
          ]
        }
      ]
    },
    {
      "cell_type": "code",
      "source": [
        "#4.\n",
        "start = -75\n",
        "test = 0\n",
        "while (True):\n",
        "  if (start % 3 == 0 and ((start >= -75 and start <= -25 or start >= 50 and start <= 75))):\n",
        "    test += 1\n",
        "    print(\"Number : \",start,test)\n",
        "  start += 1\n",
        "  if (start > 75):\n",
        "    break"
      ],
      "metadata": {
        "colab": {
          "base_uri": "https://localhost:8080/"
        },
        "collapsed": true,
        "id": "nHhGq87fUyq4",
        "outputId": "a00e8c58-2941-4067-fc5b-59dab0ae1834"
      },
      "execution_count": 29,
      "outputs": [
        {
          "output_type": "stream",
          "name": "stdout",
          "text": [
            "Number :  -75 1\n",
            "Number :  -72 2\n",
            "Number :  -69 3\n",
            "Number :  -66 4\n",
            "Number :  -63 5\n",
            "Number :  -60 6\n",
            "Number :  -57 7\n",
            "Number :  -54 8\n",
            "Number :  -51 9\n",
            "Number :  -48 10\n",
            "Number :  -45 11\n",
            "Number :  -42 12\n",
            "Number :  -39 13\n",
            "Number :  -36 14\n",
            "Number :  -33 15\n",
            "Number :  -30 16\n",
            "Number :  -27 17\n",
            "Number :  51 18\n",
            "Number :  54 19\n",
            "Number :  57 20\n",
            "Number :  60 21\n",
            "Number :  63 22\n",
            "Number :  66 23\n",
            "Number :  69 24\n",
            "Number :  72 25\n",
            "Number :  75 26\n"
          ]
        }
      ]
    },
    {
      "cell_type": "code",
      "source": [
        "#5.\n",
        "\n",
        "def count_matrix_elements(matrix):\n",
        "  count = 0\n",
        "  for row in matrix:\n",
        "    for element in row:\n",
        "      count += 1\n",
        "  return count\n",
        "\n",
        "table = [[5,2,6],[4,6,0],[9,1,8],[7,3,8]]\n",
        "print(count_matrix_elements(table))"
      ],
      "metadata": {
        "colab": {
          "base_uri": "https://localhost:8080/"
        },
        "id": "JxQodIuoWc5J",
        "outputId": "b51d4963-5542-4347-8090-f3a64b7ccafa"
      },
      "execution_count": 25,
      "outputs": [
        {
          "output_type": "stream",
          "name": "stdout",
          "text": [
            "12\n"
          ]
        }
      ]
    },
    {
      "cell_type": "code",
      "source": [
        "#6\n",
        "s = input()\n",
        "dic = {word:s.count(word) for word in s}\n",
        "for k,v in dic.items():\n",
        "  print(f\"{k},{v}\")"
      ],
      "metadata": {
        "colab": {
          "base_uri": "https://localhost:8080/"
        },
        "id": "xwFEj9GLYhI5",
        "outputId": "3dfa69d9-d147-4064-acba-f8b6788f32f0"
      },
      "execution_count": 32,
      "outputs": [
        {
          "output_type": "stream",
          "name": "stdout",
          "text": [
            "test\n",
            "t,2\n",
            "e,1\n",
            "s,1\n"
          ]
        }
      ]
    },
    {
      "cell_type": "code",
      "source": [
        "#7\n",
        "def vowel_counter(sentence):\n",
        "  count = 0\n",
        "  for ind in sentence:\n",
        "    if (ind.lower() in ['a','e','i','o','u']):\n",
        "      count += 1\n",
        "\n",
        "  return count\n",
        "sent = \"My name is kao\"\n",
        "print(vowel_counter(sent))"
      ],
      "metadata": {
        "colab": {
          "base_uri": "https://localhost:8080/"
        },
        "id": "J5sNDLvrZ0Wa",
        "outputId": "ada2201c-28e3-4afa-c024-a6fa6747b673"
      },
      "execution_count": 33,
      "outputs": [
        {
          "output_type": "stream",
          "name": "stdout",
          "text": [
            "5\n"
          ]
        }
      ]
    },
    {
      "cell_type": "code",
      "source": [
        "#8\n",
        "2 ** (4- 3) % 2 == 0"
      ],
      "metadata": {
        "colab": {
          "base_uri": "https://localhost:8080/"
        },
        "id": "rjEocRHdbBw5",
        "outputId": "7e863893-3773-4fba-ed33-3537ee23220e"
      },
      "execution_count": 35,
      "outputs": [
        {
          "output_type": "execute_result",
          "data": {
            "text/plain": [
              "True"
            ]
          },
          "metadata": {},
          "execution_count": 34
        },
        {
          "output_type": "execute_result",
          "data": {
            "text/plain": [
              "True"
            ]
          },
          "metadata": {},
          "execution_count": 35
        }
      ]
    },
    {
      "cell_type": "code",
      "source": [
        "#9\n",
        "\n",
        "li = [12,24,35,70,88,120,155]\n",
        "li = [x for (i,x) in enumerate(li) if i not in (0,4,5)]\n",
        "print(li)"
      ],
      "metadata": {
        "colab": {
          "base_uri": "https://localhost:8080/"
        },
        "id": "88V5KjJwbMVY",
        "outputId": "251e2792-082e-4d5f-aeb4-e103fea6c94c"
      },
      "execution_count": 36,
      "outputs": [
        {
          "output_type": "stream",
          "name": "stdout",
          "text": [
            "[24, 35, 70, 155]\n"
          ]
        }
      ]
    },
    {
      "cell_type": "code",
      "source": [
        "#10\n",
        "\n",
        "value = []\n",
        "items = [int(x) for x in input().split(',')]\n",
        "result = \" \".join(str(x) for x in items if x%5==0)\n",
        "print(\"\".join(result))\n"
      ],
      "metadata": {
        "colab": {
          "base_uri": "https://localhost:8080/"
        },
        "id": "0FM5bnp4cfHK",
        "outputId": "f1b9cb6d-9604-4a8f-c733-9572dc863b4f"
      },
      "execution_count": 39,
      "outputs": [
        {
          "output_type": "stream",
          "name": "stdout",
          "text": [
            "3100,10003,1030,3001\n",
            "3100 1030\n"
          ]
        }
      ]
    },
    {
      "cell_type": "code",
      "source": [
        "import random\n",
        "number = [x for x in range(10,151) if x%35==0]\n",
        "\n",
        "random.choice(number)"
      ],
      "metadata": {
        "colab": {
          "base_uri": "https://localhost:8080/"
        },
        "id": "8YQ5Vj6_eQE6",
        "outputId": "722c7e3f-f961-42e1-eca4-da407c0bc918"
      },
      "execution_count": 41,
      "outputs": [
        {
          "output_type": "execute_result",
          "data": {
            "text/plain": [
              "105"
            ]
          },
          "metadata": {},
          "execution_count": 41
        }
      ]
    },
    {
      "cell_type": "code",
      "source": [
        "salary = int(input(\"Your Salary: \"))\n",
        "\n",
        "def calculate_tax(salary):\n",
        "    tax = 0\n",
        "    if salary > 418400:\n",
        "        tax += (salary - 418400) * 0.396\n",
        "        salary = 418400\n",
        "    if salary > 416700:\n",
        "        tax += (salary - 416700) * 0.35\n",
        "        salary = 416700\n",
        "    if salary > 191650:\n",
        "        tax += (salary - 191650) * 0.33\n",
        "        salary = 191650\n",
        "    if salary > 91900:\n",
        "        tax += (salary - 91900) * 0.28\n",
        "        salary = 91900\n",
        "    if salary > 37950:\n",
        "        tax += (salary - 37950) * 0.25\n",
        "        salary = 37950\n",
        "    if salary > 9325:\n",
        "        tax += (salary - 9325) * 0.15\n",
        "        salary = 9325\n",
        "    if salary > 0:\n",
        "        tax += salary * 0.10\n",
        "    return tax\n",
        "\n",
        "print(f\"Total tax: {calculate_tax(salary):}\")\n"
      ],
      "metadata": {
        "colab": {
          "base_uri": "https://localhost:8080/"
        },
        "id": "0oVBjcCbgVvz",
        "outputId": "f47fae38-daf5-4c80-d19f-ad0a778d425e"
      },
      "execution_count": 48,
      "outputs": [
        {
          "output_type": "stream",
          "name": "stdout",
          "text": [
            "Your Salary: 400000\n",
            "Total tax: 115399.25\n"
          ]
        }
      ]
    }
  ]
}