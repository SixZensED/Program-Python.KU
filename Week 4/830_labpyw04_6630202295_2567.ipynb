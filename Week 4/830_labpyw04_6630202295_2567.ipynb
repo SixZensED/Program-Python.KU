{
  "nbformat": 4,
  "nbformat_minor": 0,
  "metadata": {
    "colab": {
      "provenance": []
    },
    "kernelspec": {
      "name": "python3",
      "display_name": "Python 3"
    },
    "language_info": {
      "name": "python"
    }
  },
  "cells": [
    {
      "cell_type": "code",
      "execution_count": null,
      "metadata": {
        "colab": {
          "base_uri": "https://localhost:8080/"
        },
        "id": "yqNGGVY_I3cr",
        "outputId": "45d9ceea-1587-4a23-b807-c41199e03673"
      },
      "outputs": [
        {
          "output_type": "execute_result",
          "data": {
            "text/plain": [
              "{'Obama': 'Hawaii'}"
            ]
          },
          "metadata": {},
          "execution_count": 9
        }
      ],
      "source": [
        "{'Obama':'Hawaii'}"
      ]
    },
    {
      "cell_type": "code",
      "source": [
        "#1. Create Dictionary\n",
        "a = {'Obama':'Hawaii','Bush':'Texas','Clinton':'Arkansas','Trump':'New York'}"
      ],
      "metadata": {
        "id": "j0LJngp9JOBe"
      },
      "execution_count": null,
      "outputs": []
    },
    {
      "cell_type": "code",
      "source": [
        "type(a)"
      ],
      "metadata": {
        "colab": {
          "base_uri": "https://localhost:8080/"
        },
        "id": "IRSnfAdwKc5C",
        "outputId": "0db39325-a786-4bf3-8747-0faab3b113dc"
      },
      "execution_count": null,
      "outputs": [
        {
          "output_type": "execute_result",
          "data": {
            "text/plain": [
              "dict"
            ]
          },
          "metadata": {},
          "execution_count": 19
        }
      ]
    },
    {
      "cell_type": "code",
      "source": [
        "print(a['Obama'])\n",
        "print(a['Bush'])\n",
        "print(a['Clinton'])\n",
        "print(a['Trump'])\n",
        "########\n",
        "print(a.keys())\n",
        "print(a.values())\n",
        "print(a.items())"
      ],
      "metadata": {
        "colab": {
          "base_uri": "https://localhost:8080/"
        },
        "id": "y3XLrkj8K1BD",
        "outputId": "f15ea202-981e-4ba8-a854-06faffbb26b4"
      },
      "execution_count": null,
      "outputs": [
        {
          "output_type": "stream",
          "name": "stdout",
          "text": [
            "Hawaii\n",
            "Texas\n",
            "Arkansas\n",
            "New York\n"
          ]
        },
        {
          "output_type": "execute_result",
          "data": {
            "text/plain": [
              "dict_keys(['Obama', 'Bush', 'Clinton', 'Trump'])"
            ]
          },
          "metadata": {},
          "execution_count": 15
        }
      ]
    },
    {
      "cell_type": "code",
      "source": [
        "print(a.keys())\n",
        "print(a.values())\n",
        "print(a.items())"
      ],
      "metadata": {
        "colab": {
          "base_uri": "https://localhost:8080/"
        },
        "id": "dUjPBP2XLuz8",
        "outputId": "3dc96b1f-e1c7-4158-9aa3-a65e3985ea97"
      },
      "execution_count": null,
      "outputs": [
        {
          "output_type": "stream",
          "name": "stdout",
          "text": [
            "dict_keys(['Obama', 'Bush', 'Clinton', 'Trump'])\n",
            "dict_values(['Hawaii', 'Texas', 'Arkansas', 'New York'])\n",
            "dict_items([('Obama', 'Hawaii'), ('Bush', 'Texas'), ('Clinton', 'Arkansas'), ('Trump', 'New York')])\n"
          ]
        }
      ]
    },
    {
      "cell_type": "code",
      "source": [
        "[item.upper() for item in a.keys()]"
      ],
      "metadata": {
        "colab": {
          "base_uri": "https://localhost:8080/"
        },
        "id": "wjG1fgsqOVXr",
        "outputId": "51025494-d770-4891-e84c-4da6fbc90326"
      },
      "execution_count": null,
      "outputs": [
        {
          "output_type": "execute_result",
          "data": {
            "text/plain": [
              "['OBAMA', 'BUSH', 'CLINTON', 'TRUMP']"
            ]
          },
          "metadata": {},
          "execution_count": 24
        }
      ]
    },
    {
      "cell_type": "code",
      "source": [
        "#2. Loop list for Creatinmg Dictionary\n",
        "colors = ['red','orange','yellow','green','blue','indigo','violet']\n",
        "d = dict()\n",
        "for color in colors:\n",
        "  key = len(color)\n",
        "  print(key)\n",
        "  if key not in d:\n",
        "    d[key] = []\n",
        "  d[key].append(color)\n",
        "############\n",
        "print(f\"d: {d}\")\n",
        "print(d.keys())\n",
        "print(d.items())\n",
        "print(d.values())"
      ],
      "metadata": {
        "colab": {
          "base_uri": "https://localhost:8080/"
        },
        "id": "fHtX7LLLMBh7",
        "outputId": "628fea4f-71ba-4e03-bfd8-3eed972f0382"
      },
      "execution_count": null,
      "outputs": [
        {
          "output_type": "stream",
          "name": "stdout",
          "text": [
            "3\n",
            "6\n",
            "6\n",
            "5\n",
            "4\n",
            "6\n",
            "6\n",
            "d: {3: ['red'], 6: ['orange', 'yellow', 'indigo', 'violet'], 5: ['green'], 4: ['blue']}\n",
            "dict_keys([3, 6, 5, 4])\n",
            "dict_items([(3, ['red']), (6, ['orange', 'yellow', 'indigo', 'violet']), (5, ['green']), (4, ['blue'])])\n",
            "dict_values([['red'], ['orange', 'yellow', 'indigo', 'violet'], ['green'], ['blue']])\n"
          ]
        }
      ]
    },
    {
      "cell_type": "code",
      "source": [
        "#3. Membership - in,not in\n",
        "'Obama' in a"
      ],
      "metadata": {
        "colab": {
          "base_uri": "https://localhost:8080/"
        },
        "id": "4pbIGOdMRSx0",
        "outputId": "a7e06a8c-2365-4ad5-8a97-8414e726a902"
      },
      "execution_count": null,
      "outputs": [
        {
          "output_type": "execute_result",
          "data": {
            "text/plain": [
              "True"
            ]
          },
          "metadata": {},
          "execution_count": 40
        }
      ]
    },
    {
      "cell_type": "code",
      "source": [
        "'Franklin' not in a"
      ],
      "metadata": {
        "colab": {
          "base_uri": "https://localhost:8080/"
        },
        "id": "0ucYyAnaRfUM",
        "outputId": "bd6e6c85-1f84-45a2-9360-2262b6f02b1c"
      },
      "execution_count": null,
      "outputs": [
        {
          "output_type": "execute_result",
          "data": {
            "text/plain": [
              "True"
            ]
          },
          "metadata": {},
          "execution_count": 41
        }
      ]
    },
    {
      "cell_type": "code",
      "source": [
        "#4. Create Dict 1key - M values\n",
        "shopping = {'produce': ['apples','oranges','spinach','carrots'],'meat':['ground beef','chicken breast']}"
      ],
      "metadata": {
        "id": "RfV7fK58Rqz0"
      },
      "execution_count": null,
      "outputs": []
    },
    {
      "cell_type": "code",
      "source": [
        "shopping['meat']\n",
        "shopping['produce']"
      ],
      "metadata": {
        "colab": {
          "base_uri": "https://localhost:8080/"
        },
        "id": "HMamf4FdR-39",
        "outputId": "df3fd750-f1ef-4ce4-8289-c01d2dea3e9b"
      },
      "execution_count": null,
      "outputs": [
        {
          "output_type": "execute_result",
          "data": {
            "text/plain": [
              "['apples', 'oranges', 'spinach', 'carrots']"
            ]
          },
          "metadata": {},
          "execution_count": 47
        }
      ]
    },
    {
      "cell_type": "code",
      "source": [
        "print('Produce items on your list: ')\n",
        "for item in shopping['produce']:\n",
        "  print(\"* \" + item, end = ' ')"
      ],
      "metadata": {
        "colab": {
          "base_uri": "https://localhost:8080/"
        },
        "id": "dXs9RUScSprV",
        "outputId": "9a0a82bd-76a1-4fde-a07c-587c935c1d12"
      },
      "execution_count": null,
      "outputs": [
        {
          "output_type": "stream",
          "name": "stdout",
          "text": [
            "Produce items on your list: \n",
            "* apples * oranges * spinach * carrots "
          ]
        }
      ]
    },
    {
      "cell_type": "code",
      "source": [
        "#5.\n",
        "shopping = {'produce': {'fruits':['apples','oranges'],'vegetables': ['spinach','carrots']},'meat':['ground beef','chicken breast']}"
      ],
      "metadata": {
        "id": "9ztmcElKTPu9"
      },
      "execution_count": null,
      "outputs": []
    },
    {
      "cell_type": "code",
      "source": [
        "# A list of all fruits\n",
        "print(shopping['produce']['fruits'])\n",
        "# A list of all vegetables\n",
        "print(shopping['produce']['vegetables'])\n",
        "# A list of all meat\n",
        "print(shopping['meat'])\n",
        "\n",
        "###\n",
        "print(shopping['produce'].keys())\n",
        "print(shopping['produce'].items())\n",
        "print(shopping['produce']['fruits'][0])\n",
        "print(shopping['produce']['vegetables'][1])"
      ],
      "metadata": {
        "colab": {
          "base_uri": "https://localhost:8080/"
        },
        "id": "kaZNzYJNTu0M",
        "outputId": "e5b0e407-c0a2-4cca-d93f-2e01dbfc2426"
      },
      "execution_count": null,
      "outputs": [
        {
          "output_type": "stream",
          "name": "stdout",
          "text": [
            "['apples', 'oranges']\n",
            "['spinach', 'carrots']\n",
            "['ground beef', 'chicken breast']\n",
            "dict_keys(['fruits', 'vegetables'])\n",
            "dict_items([('fruits', ['apples', 'oranges']), ('vegetables', ['spinach', 'carrots'])])\n",
            "apples\n",
            "carrots\n"
          ]
        }
      ]
    },
    {
      "cell_type": "code",
      "source": [
        "#6 Adding new item\n",
        "president_state = {'Obama':'Hawaii','Bush':'Texas','Clinton':'Arkansas','Trump':'New York'}"
      ],
      "metadata": {
        "id": "s9hiPthtWTuF"
      },
      "execution_count": null,
      "outputs": []
    },
    {
      "cell_type": "code",
      "source": [
        "#6.1\n",
        "president_state['Reagan'] = 'California'\n",
        "president_state"
      ],
      "metadata": {
        "colab": {
          "base_uri": "https://localhost:8080/"
        },
        "id": "YzSn-OsUWYn1",
        "outputId": "e93939d6-1711-4ed7-8194-4b51433c2c2d"
      },
      "execution_count": null,
      "outputs": [
        {
          "output_type": "execute_result",
          "data": {
            "text/plain": [
              "{'Obama': 'Hawaii',\n",
              " 'Bush': 'Texas',\n",
              " 'Clinton': 'Arkansas',\n",
              " 'Trump': 'New York',\n",
              " 'Reagan': 'California'}"
            ]
          },
          "metadata": {},
          "execution_count": 66
        }
      ]
    },
    {
      "cell_type": "code",
      "source": [
        "#6.2\n",
        "for item in president_state:\n",
        "  print(item)"
      ],
      "metadata": {
        "colab": {
          "base_uri": "https://localhost:8080/"
        },
        "id": "ViHiS9oJXQSu",
        "outputId": "5325b128-9e78-491f-a0c7-62be6eceec7f"
      },
      "execution_count": null,
      "outputs": [
        {
          "output_type": "stream",
          "name": "stdout",
          "text": [
            "Obama\n",
            "Bush\n",
            "Clinton\n",
            "Trump\n",
            "Reagan\n"
          ]
        }
      ]
    },
    {
      "cell_type": "code",
      "source": [
        "#7\n",
        "{'a':1,'a':2,'a':3}"
      ],
      "metadata": {
        "colab": {
          "base_uri": "https://localhost:8080/"
        },
        "id": "QNdx65AMXtud",
        "outputId": "2736cd52-5570-477f-9b47-43cfff8feea7"
      },
      "execution_count": null,
      "outputs": [
        {
          "output_type": "execute_result",
          "data": {
            "text/plain": [
              "{'a': 3}"
            ]
          },
          "metadata": {},
          "execution_count": 68
        }
      ]
    },
    {
      "cell_type": "code",
      "source": [
        "#8\n",
        "tuple([1,2,3,4,5])"
      ],
      "metadata": {
        "colab": {
          "base_uri": "https://localhost:8080/"
        },
        "id": "Yh9wBcWTYMlV",
        "outputId": "72ceda49-60bd-4cd0-9bf8-cc7dc4eed9d2"
      },
      "execution_count": null,
      "outputs": [
        {
          "output_type": "execute_result",
          "data": {
            "text/plain": [
              "(1, 2, 3, 4, 5)"
            ]
          },
          "metadata": {},
          "execution_count": 69
        }
      ]
    },
    {
      "cell_type": "code",
      "source": [
        "#9.\n",
        "a = set([1,2,3,4,5])\n",
        "b = set([3,4,5,6])\n",
        "\n",
        "# a | b\n",
        "# a & b\n",
        "# a issubset(b)\n",
        "# a - b"
      ],
      "metadata": {
        "id": "D7JeqvQCYrdu"
      },
      "execution_count": null,
      "outputs": []
    },
    {
      "cell_type": "code",
      "source": [
        "print(a| b) #union\n",
        "print(a & b) # intersection\n",
        "print(a.issubset(b)) # issubset\n",
        "print(a - b) # difference"
      ],
      "metadata": {
        "colab": {
          "base_uri": "https://localhost:8080/"
        },
        "id": "okBjKLCGb833",
        "outputId": "76a37aec-bba6-496c-d056-561489f8e922"
      },
      "execution_count": null,
      "outputs": [
        {
          "output_type": "stream",
          "name": "stdout",
          "text": [
            "{1, 2, 3, 4, 5, 6}\n",
            "{3, 4, 5}\n",
            "False\n",
            "{1, 2}\n"
          ]
        }
      ]
    },
    {
      "cell_type": "code",
      "source": [
        "#9.2\n",
        "t = ['alpha','beta','gamma','delta']\n",
        "print(t[-2])\n",
        "print(t[1:3])"
      ],
      "metadata": {
        "colab": {
          "base_uri": "https://localhost:8080/"
        },
        "id": "8brVESnmdruG",
        "outputId": "10f86a6a-af5c-4528-8c47-b70b7540bade"
      },
      "execution_count": null,
      "outputs": [
        {
          "output_type": "stream",
          "name": "stdout",
          "text": [
            "gamma\n",
            "['beta', 'gamma']\n"
          ]
        }
      ]
    },
    {
      "cell_type": "code",
      "source": [
        "t.append('epsilon')\n",
        "print(t)"
      ],
      "metadata": {
        "colab": {
          "base_uri": "https://localhost:8080/"
        },
        "id": "PHUs9yl4d4JG",
        "outputId": "1634c53d-02d3-4be5-e952-8e8b995d610d"
      },
      "execution_count": null,
      "outputs": [
        {
          "output_type": "stream",
          "name": "stdout",
          "text": [
            "['alpha', 'beta', 'gamma', 'delta', 'epsilon']\n"
          ]
        }
      ]
    },
    {
      "cell_type": "code",
      "source": [
        "#10\n",
        "counts = {'chuck':1,'annie':2,'jan':3}\n",
        "lst = list(counts.keys())\n",
        "print(lst)\n",
        "lst.sort()\n",
        "print(lst)\n",
        "for key in lst:\n",
        "  print(key,counts[key])"
      ],
      "metadata": {
        "colab": {
          "base_uri": "https://localhost:8080/"
        },
        "id": "hwA31sPsY9Bu",
        "outputId": "550dbcc5-6a63-46f6-f133-419a84e7df1a"
      },
      "execution_count": null,
      "outputs": [
        {
          "output_type": "stream",
          "name": "stdout",
          "text": [
            "['chuck', 'annie', 'jan']\n",
            "['annie', 'chuck', 'jan']\n",
            "annie 2\n",
            "chuck 1\n",
            "jan 3\n"
          ]
        }
      ]
    },
    {
      "cell_type": "code",
      "source": [
        "# 11\n",
        "sum = 0\n",
        "for i in range(10):\n",
        "  for j in range(10):\n",
        "    sum += i + j\n",
        "print(sum)"
      ],
      "metadata": {
        "colab": {
          "base_uri": "https://localhost:8080/"
        },
        "id": "UbZeQhHSe0ZH",
        "outputId": "a58adeba-ed34-4d52-dad7-ce3dbfdaaee5"
      },
      "execution_count": null,
      "outputs": [
        {
          "output_type": "stream",
          "name": "stdout",
          "text": [
            "900\n",
            "18\n"
          ]
        }
      ]
    },
    {
      "cell_type": "code",
      "source": [
        "#       *\n",
        "#      ***\n",
        "#     *****\n",
        "#    *******\n",
        "#   *********\n",
        "\n",
        "for i in range(5) :\n",
        "  print(' ' * (5 - i),end = '')\n",
        "  for j in range((2 * i) + 1):\n",
        "    print(\"*\",end = '')\n",
        "  print()"
      ],
      "metadata": {
        "id": "hIyTDR9pfRk3",
        "colab": {
          "base_uri": "https://localhost:8080/"
        },
        "outputId": "0f43141c-8240-48e7-8cea-305793cf2a1f"
      },
      "execution_count": 135,
      "outputs": [
        {
          "output_type": "stream",
          "name": "stdout",
          "text": [
            "     *\n",
            "    ***\n",
            "   *****\n",
            "  *******\n",
            " *********\n"
          ]
        }
      ]
    }
  ]
}